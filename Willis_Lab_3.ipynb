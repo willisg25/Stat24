{
  "nbformat": 4,
  "nbformat_minor": 0,
  "metadata": {
    "colab": {
      "provenance": [],
      "include_colab_link": true
    },
    "kernelspec": {
      "name": "python3",
      "display_name": "Python 3"
    },
    "language_info": {
      "name": "python"
    }
  },
  "cells": [
    {
      "cell_type": "markdown",
      "metadata": {
        "id": "view-in-github",
        "colab_type": "text"
      },
      "source": [
        "<a href=\"https://colab.research.google.com/github/willisg25/Stat24/blob/main/Willis_Lab_3.ipynb\" target=\"_parent\"><img src=\"https://colab.research.google.com/assets/colab-badge.svg\" alt=\"Open In Colab\"/></a>"
      ]
    },
    {
      "cell_type": "code",
      "execution_count": 2,
      "metadata": {
        "id": "mBTZa3LbmlCv"
      },
      "outputs": [],
      "source": [
        "import numpy as np\n",
        "import matplotlib.pyplot as plt"
      ]
    },
    {
      "cell_type": "markdown",
      "source": [
        "# Normal Random Number Generator"
      ],
      "metadata": {
        "id": "CwVhNQGvExWz"
      }
    },
    {
      "cell_type": "code",
      "metadata": {
        "id": "FQQe5WEEbw_0"
      },
      "source": [
        "#CDF PDF"
      ],
      "execution_count": 3,
      "outputs": []
    },
    {
      "cell_type": "code",
      "source": [
        "x = np.linspace(-10,10,1000) # generate 1000 x values within a rand of -10 to 10\n",
        "y = 2.71**(-x**2) # create y values based on the x values above\n",
        "plt.plot(x,y) # plot relation"
      ],
      "metadata": {
        "colab": {
          "base_uri": "https://localhost:8080/",
          "height": 448
        },
        "id": "oCyzB_zEqcSE",
        "outputId": "a841f302-77e0-43f5-f7c5-956e10226ef1"
      },
      "execution_count": 4,
      "outputs": [
        {
          "output_type": "execute_result",
          "data": {
            "text/plain": [
              "[<matplotlib.lines.Line2D at 0x786d459d2bc0>]"
            ]
          },
          "metadata": {},
          "execution_count": 4
        },
        {
          "output_type": "display_data",
          "data": {
            "text/plain": [
              "<Figure size 640x480 with 1 Axes>"
            ],
            "image/png": "[encoded data removed]"
          },
          "metadata": {}
        }
      ]
    },
    {
      "cell_type": "markdown",
      "source": [
        "$e^{-x^2}$"
      ],
      "metadata": {
        "id": "UjleGPmUqdX0"
      }
    },
    {
      "cell_type": "markdown",
      "metadata": {
        "id": "yJ59vSNn1LEU"
      },
      "source": [
        "![alt text](https://wikimedia.org/api/rest_v1/media/math/render/svg/4abaca87a10ecfa77b5a205056523706fe6c9c3f)"
      ]
    },
    {
      "cell_type": "code",
      "metadata": {
        "id": "iyMyj1cd1LEV"
      },
      "source": [
        "# defining a function to calculate the probability density function\n",
        "def normal_pdf(x,mu,sigma):\n",
        "\n",
        "  return (1/(np.sqrt(2*np.pi*sigma**2)))*np.exp((-(x-mu)**2)/(2*sigma**2))"
      ],
      "execution_count": 5,
      "outputs": []
    },
    {
      "cell_type": "code",
      "metadata": {
        "id": "CzBfKnfL1LEX"
      },
      "source": [
        "x = np.linspace(-6,6,1000) # generate 1000 x values from 6 to -6"
      ],
      "execution_count": 6,
      "outputs": []
    },
    {
      "cell_type": "code",
      "source": [
        "x"
      ],
      "metadata": {
        "colab": {
          "base_uri": "https://localhost:8080/"
        },
        "id": "4tfm5wC_lndU",
        "outputId": "6815f9a7-3e54-4dbe-d688-6e671aed0921"
      },
      "execution_count": 7,
      "outputs": [
        {
          "output_type": "execute_result",
          "data": {
            "text/plain": [
              "array([-6.        , -5.98798799, -5.97597598, -5.96396396, -5.95195195,\n",
              "       -5.93993994, -5.92792793, -5.91591592, -5.9039039 , -5.89189189,\n",
              "       -5.87987988, -5.86786787, -5.85585586, -5.84384384, -5.83183183,\n",
              "       -5.81981982, -5.80780781, -5.7957958 , -5.78378378, -5.77177177,\n",
              "       -5.75975976, -5.74774775, -5.73573574, -5.72372372, -5.71171171,\n",
              "       -5.6996997 , -5.68768769, -5.67567568, -5.66366366, -5.65165165,\n",
              "       -5.63963964, -5.62762763, -5.61561562, -5.6036036 , -5.59159159,\n",
              "       -5.57957958, -5.56756757, -5.55555556, -5.54354354, -5.53153153,\n",
              "       -5.51951952, -5.50750751, -5.4954955 , -5.48348348, -5.47147147,\n",
              "       -5.45945946, -5.44744745, -5.43543544, -5.42342342, -5.41141141,\n",
              "       -5.3993994 , -5.38738739, -5.37537538, -5.36336336, -5.35135135,\n",
              "       -5.33933934, -5.32732733, -5.31531532, -5.3033033 , -5.29129129,\n",
              "       -5.27927928, -5.26726727, -5.25525526, -5.24324324, -5.23123123,\n",
              "       -5.21921922, -5.20720721, -5.1951952 , -5.18318318, -5.17117117,\n",
              "       -5.15915916, -5.14714715, -5.13513514, -5.12312312, -5.11111111,\n",
              "       -5.0990991 , -5.08708709, -5.07507508, -5.06306306, -5.05105105,\n",
              "       -5.03903904, -5.02702703, -5.01501502, -5.003003  , -4.99099099,\n",
              "       -4.97897898, -4.96696697, -4.95495495, -4.94294294, -4.93093093,\n",
              "       -4.91891892, -4.90690691, -4.89489489, -4.88288288, -4.87087087,\n",
              "       -4.85885886, -4.84684685, -4.83483483, -4.82282282, -4.81081081,\n",
              "       -4.7987988 , -4.78678679, -4.77477477, -4.76276276, -4.75075075,\n",
              "       -4.73873874, -4.72672673, -4.71471471, -4.7027027 , -4.69069069,\n",
              "       -4.67867868, -4.66666667, -4.65465465, -4.64264264, -4.63063063,\n",
              "       -4.61861862, -4.60660661, -4.59459459, -4.58258258, -4.57057057,\n",
              "       -4.55855856, -4.54654655, -4.53453453, -4.52252252, -4.51051051,\n",
              "       -4.4984985 , -4.48648649, -4.47447447, -4.46246246, -4.45045045,\n",
              "       -4.43843844, -4.42642643, -4.41441441, -4.4024024 , -4.39039039,\n",
              "       -4.37837838, -4.36636637, -4.35435435, -4.34234234, -4.33033033,\n",
              "       -4.31831832, -4.30630631, -4.29429429, -4.28228228, -4.27027027,\n",
              "       -4.25825826, -4.24624625, -4.23423423, -4.22222222, -4.21021021,\n",
              "       -4.1981982 , -4.18618619, -4.17417417, -4.16216216, -4.15015015,\n",
              "       -4.13813814, -4.12612613, -4.11411411, -4.1021021 , -4.09009009,\n",
              "       -4.07807808, -4.06606607, -4.05405405, -4.04204204, -4.03003003,\n",
              "       -4.01801802, -4.00600601, -3.99399399, -3.98198198, -3.96996997,\n",
              "       -3.95795796, -3.94594595, -3.93393393, -3.92192192, -3.90990991,\n",
              "       -3.8978979 , -3.88588589, -3.87387387, -3.86186186, -3.84984985,\n",
              "       -3.83783784, -3.82582583, -3.81381381, -3.8018018 , -3.78978979,\n",
              "       -3.77777778, -3.76576577, -3.75375375, -3.74174174, -3.72972973,\n",
              "       -3.71771772, -3.70570571, -3.69369369, -3.68168168, -3.66966967,\n",
              "       -3.65765766, -3.64564565, -3.63363363, -3.62162162, -3.60960961,\n",
              "       -3.5975976 , -3.58558559, -3.57357357, -3.56156156, -3.54954955,\n",
              "       -3.53753754, -3.52552553, -3.51351351, -3.5015015 , -3.48948949,\n",
              "       -3.47747748, -3.46546547, -3.45345345, -3.44144144, -3.42942943,\n",
              "       -3.41741742, -3.40540541, -3.39339339, -3.38138138, -3.36936937,\n",
              "       -3.35735736, -3.34534535, -3.33333333, -3.32132132, -3.30930931,\n",
              "       -3.2972973 , -3.28528529, -3.27327327, -3.26126126, -3.24924925,\n",
              "       -3.23723724, -3.22522523, -3.21321321, -3.2012012 , -3.18918919,\n",
              "       -3.17717718, -3.16516517, -3.15315315, -3.14114114, -3.12912913,\n",
              "       -3.11711712, -3.10510511, -3.09309309, -3.08108108, -3.06906907,\n",
              "       -3.05705706, -3.04504505, -3.03303303, -3.02102102, -3.00900901,\n",
              "       -2.996997  , -2.98498498, -2.97297297, -2.96096096, -2.94894895,\n",
              "       -2.93693694, -2.92492492, -2.91291291, -2.9009009 , -2.88888889,\n",
              "       -2.87687688, -2.86486486, -2.85285285, -2.84084084, -2.82882883,\n",
              "       -2.81681682, -2.8048048 , -2.79279279, -2.78078078, -2.76876877,\n",
              "       -2.75675676, -2.74474474, -2.73273273, -2.72072072, -2.70870871,\n",
              "       -2.6966967 , -2.68468468, -2.67267267, -2.66066066, -2.64864865,\n",
              "       -2.63663664, -2.62462462, -2.61261261, -2.6006006 , -2.58858859,\n",
              "       -2.57657658, -2.56456456, -2.55255255, -2.54054054, -2.52852853,\n",
              "       -2.51651652, -2.5045045 , -2.49249249, -2.48048048, -2.46846847,\n",
              "       -2.45645646, -2.44444444, -2.43243243, -2.42042042, -2.40840841,\n",
              "       -2.3963964 , -2.38438438, -2.37237237, -2.36036036, -2.34834835,\n",
              "       -2.33633634, -2.32432432, -2.31231231, -2.3003003 , -2.28828829,\n",
              "       -2.27627628, -2.26426426, -2.25225225, -2.24024024, -2.22822823,\n",
              "       -2.21621622, -2.2042042 , -2.19219219, -2.18018018, -2.16816817,\n",
              "       -2.15615616, -2.14414414, -2.13213213, -2.12012012, -2.10810811,\n",
              "       -2.0960961 , -2.08408408, -2.07207207, -2.06006006, -2.04804805,\n",
              "       -2.03603604, -2.02402402, -2.01201201, -2.        , -1.98798799,\n",
              "       -1.97597598, -1.96396396, -1.95195195, -1.93993994, -1.92792793,\n",
              "       -1.91591592, -1.9039039 , -1.89189189, -1.87987988, -1.86786787,\n",
              "       -1.85585586, -1.84384384, -1.83183183, -1.81981982, -1.80780781,\n",
              "       -1.7957958 , -1.78378378, -1.77177177, -1.75975976, -1.74774775,\n",
              "       -1.73573574, -1.72372372, -1.71171171, -1.6996997 , -1.68768769,\n",
              "       -1.67567568, -1.66366366, -1.65165165, -1.63963964, -1.62762763,\n",
              "       -1.61561562, -1.6036036 , -1.59159159, -1.57957958, -1.56756757,\n",
              "       -1.55555556, -1.54354354, -1.53153153, -1.51951952, -1.50750751,\n",
              "       -1.4954955 , -1.48348348, -1.47147147, -1.45945946, -1.44744745,\n",
              "       -1.43543544, -1.42342342, -1.41141141, -1.3993994 , -1.38738739,\n",
              "       -1.37537538, -1.36336336, -1.35135135, -1.33933934, -1.32732733,\n",
              "       -1.31531532, -1.3033033 , -1.29129129, -1.27927928, -1.26726727,\n",
              "       -1.25525526, -1.24324324, -1.23123123, -1.21921922, -1.20720721,\n",
              "       -1.1951952 , -1.18318318, -1.17117117, -1.15915916, -1.14714715,\n",
              "       -1.13513514, -1.12312312, -1.11111111, -1.0990991 , -1.08708709,\n",
              "       -1.07507508, -1.06306306, -1.05105105, -1.03903904, -1.02702703,\n",
              "       -1.01501502, -1.003003  , -0.99099099, -0.97897898, -0.96696697,\n",
              "       -0.95495495, -0.94294294, -0.93093093, -0.91891892, -0.90690691,\n",
              "       -0.89489489, -0.88288288, -0.87087087, -0.85885886, -0.84684685,\n",
              "       -0.83483483, -0.82282282, -0.81081081, -0.7987988 , -0.78678679,\n",
              "       -0.77477477, -0.76276276, -0.75075075, -0.73873874, -0.72672673,\n",
              "       -0.71471471, -0.7027027 , -0.69069069, -0.67867868, -0.66666667,\n",
              "       -0.65465465, -0.64264264, -0.63063063, -0.61861862, -0.60660661,\n",
              "       -0.59459459, -0.58258258, -0.57057057, -0.55855856, -0.54654655,\n",
              "       -0.53453453, -0.52252252, -0.51051051, -0.4984985 , -0.48648649,\n",
              "       -0.47447447, -0.46246246, -0.45045045, -0.43843844, -0.42642643,\n",
              "       -0.41441441, -0.4024024 , -0.39039039, -0.37837838, -0.36636637,\n",
              "       -0.35435435, -0.34234234, -0.33033033, -0.31831832, -0.30630631,\n",
              "       -0.29429429, -0.28228228, -0.27027027, -0.25825826, -0.24624625,\n",
              "       -0.23423423, -0.22222222, -0.21021021, -0.1981982 , -0.18618619,\n",
              "       -0.17417417, -0.16216216, -0.15015015, -0.13813814, -0.12612613,\n",
              "       -0.11411411, -0.1021021 , -0.09009009, -0.07807808, -0.06606607,\n",
              "       -0.05405405, -0.04204204, -0.03003003, -0.01801802, -0.00600601,\n",
              "        0.00600601,  0.01801802,  0.03003003,  0.04204204,  0.05405405,\n",
              "        0.06606607,  0.07807808,  0.09009009,  0.1021021 ,  0.11411411,\n",
              "        0.12612613,  0.13813814,  0.15015015,  0.16216216,  0.17417417,\n",
              "        0.18618619,  0.1981982 ,  0.21021021,  0.22222222,  0.23423423,\n",
              "        0.24624625,  0.25825826,  0.27027027,  0.28228228,  0.29429429,\n",
              "        0.30630631,  0.31831832,  0.33033033,  0.34234234,  0.35435435,\n",
              "        0.36636637,  0.37837838,  0.39039039,  0.4024024 ,  0.41441441,\n",
              "        0.42642643,  0.43843844,  0.45045045,  0.46246246,  0.47447447,\n",
              "        0.48648649,  0.4984985 ,  0.51051051,  0.52252252,  0.53453453,\n",
              "        0.54654655,  0.55855856,  0.57057057,  0.58258258,  0.59459459,\n",
              "        0.60660661,  0.61861862,  0.63063063,  0.64264264,  0.65465465,\n",
              "        0.66666667,  0.67867868,  0.69069069,  0.7027027 ,  0.71471471,\n",
              "        0.72672673,  0.73873874,  0.75075075,  0.76276276,  0.77477477,\n",
              "        0.78678679,  0.7987988 ,  0.81081081,  0.82282282,  0.83483483,\n",
              "        0.84684685,  0.85885886,  0.87087087,  0.88288288,  0.89489489,\n",
              "        0.90690691,  0.91891892,  0.93093093,  0.94294294,  0.95495495,\n",
              "        0.96696697,  0.97897898,  0.99099099,  1.003003  ,  1.01501502,\n",
              "        1.02702703,  1.03903904,  1.05105105,  1.06306306,  1.07507508,\n",
              "        1.08708709,  1.0990991 ,  1.11111111,  1.12312312,  1.13513514,\n",
              "        1.14714715,  1.15915916,  1.17117117,  1.18318318,  1.1951952 ,\n",
              "        1.20720721,  1.21921922,  1.23123123,  1.24324324,  1.25525526,\n",
              "        1.26726727,  1.27927928,  1.29129129,  1.3033033 ,  1.31531532,\n",
              "        1.32732733,  1.33933934,  1.35135135,  1.36336336,  1.37537538,\n",
              "        1.38738739,  1.3993994 ,  1.41141141,  1.42342342,  1.43543544,\n",
              "        1.44744745,  1.45945946,  1.47147147,  1.48348348,  1.4954955 ,\n",
              "        1.50750751,  1.51951952,  1.53153153,  1.54354354,  1.55555556,\n",
              "        1.56756757,  1.57957958,  1.59159159,  1.6036036 ,  1.61561562,\n",
              "        1.62762763,  1.63963964,  1.65165165,  1.66366366,  1.67567568,\n",
              "        1.68768769,  1.6996997 ,  1.71171171,  1.72372372,  1.73573574,\n",
              "        1.74774775,  1.75975976,  1.77177177,  1.78378378,  1.7957958 ,\n",
              "        1.80780781,  1.81981982,  1.83183183,  1.84384384,  1.85585586,\n",
              "        1.86786787,  1.87987988,  1.89189189,  1.9039039 ,  1.91591592,\n",
              "        1.92792793,  1.93993994,  1.95195195,  1.96396396,  1.97597598,\n",
              "        1.98798799,  2.        ,  2.01201201,  2.02402402,  2.03603604,\n",
              "        2.04804805,  2.06006006,  2.07207207,  2.08408408,  2.0960961 ,\n",
              "        2.10810811,  2.12012012,  2.13213213,  2.14414414,  2.15615616,\n",
              "        2.16816817,  2.18018018,  2.19219219,  2.2042042 ,  2.21621622,\n",
              "        2.22822823,  2.24024024,  2.25225225,  2.26426426,  2.27627628,\n",
              "        2.28828829,  2.3003003 ,  2.31231231,  2.32432432,  2.33633634,\n",
              "        2.34834835,  2.36036036,  2.37237237,  2.38438438,  2.3963964 ,\n",
              "        2.40840841,  2.42042042,  2.43243243,  2.44444444,  2.45645646,\n",
              "        2.46846847,  2.48048048,  2.49249249,  2.5045045 ,  2.51651652,\n",
              "        2.52852853,  2.54054054,  2.55255255,  2.56456456,  2.57657658,\n",
              "        2.58858859,  2.6006006 ,  2.61261261,  2.62462462,  2.63663664,\n",
              "        2.64864865,  2.66066066,  2.67267267,  2.68468468,  2.6966967 ,\n",
              "        2.70870871,  2.72072072,  2.73273273,  2.74474474,  2.75675676,\n",
              "        2.76876877,  2.78078078,  2.79279279,  2.8048048 ,  2.81681682,\n",
              "        2.82882883,  2.84084084,  2.85285285,  2.86486486,  2.87687688,\n",
              "        2.88888889,  2.9009009 ,  2.91291291,  2.92492492,  2.93693694,\n",
              "        2.94894895,  2.96096096,  2.97297297,  2.98498498,  2.996997  ,\n",
              "        3.00900901,  3.02102102,  3.03303303,  3.04504505,  3.05705706,\n",
              "        3.06906907,  3.08108108,  3.09309309,  3.10510511,  3.11711712,\n",
              "        3.12912913,  3.14114114,  3.15315315,  3.16516517,  3.17717718,\n",
              "        3.18918919,  3.2012012 ,  3.21321321,  3.22522523,  3.23723724,\n",
              "        3.24924925,  3.26126126,  3.27327327,  3.28528529,  3.2972973 ,\n",
              "        3.30930931,  3.32132132,  3.33333333,  3.34534535,  3.35735736,\n",
              "        3.36936937,  3.38138138,  3.39339339,  3.40540541,  3.41741742,\n",
              "        3.42942943,  3.44144144,  3.45345345,  3.46546547,  3.47747748,\n",
              "        3.48948949,  3.5015015 ,  3.51351351,  3.52552553,  3.53753754,\n",
              "        3.54954955,  3.56156156,  3.57357357,  3.58558559,  3.5975976 ,\n",
              "        3.60960961,  3.62162162,  3.63363363,  3.64564565,  3.65765766,\n",
              "        3.66966967,  3.68168168,  3.69369369,  3.70570571,  3.71771772,\n",
              "        3.72972973,  3.74174174,  3.75375375,  3.76576577,  3.77777778,\n",
              "        3.78978979,  3.8018018 ,  3.81381381,  3.82582583,  3.83783784,\n",
              "        3.84984985,  3.86186186,  3.87387387,  3.88588589,  3.8978979 ,\n",
              "        3.90990991,  3.92192192,  3.93393393,  3.94594595,  3.95795796,\n",
              "        3.96996997,  3.98198198,  3.99399399,  4.00600601,  4.01801802,\n",
              "        4.03003003,  4.04204204,  4.05405405,  4.06606607,  4.07807808,\n",
              "        4.09009009,  4.1021021 ,  4.11411411,  4.12612613,  4.13813814,\n",
              "        4.15015015,  4.16216216,  4.17417417,  4.18618619,  4.1981982 ,\n",
              "        4.21021021,  4.22222222,  4.23423423,  4.24624625,  4.25825826,\n",
              "        4.27027027,  4.28228228,  4.29429429,  4.30630631,  4.31831832,\n",
              "        4.33033033,  4.34234234,  4.35435435,  4.36636637,  4.37837838,\n",
              "        4.39039039,  4.4024024 ,  4.41441441,  4.42642643,  4.43843844,\n",
              "        4.45045045,  4.46246246,  4.47447447,  4.48648649,  4.4984985 ,\n",
              "        4.51051051,  4.52252252,  4.53453453,  4.54654655,  4.55855856,\n",
              "        4.57057057,  4.58258258,  4.59459459,  4.60660661,  4.61861862,\n",
              "        4.63063063,  4.64264264,  4.65465465,  4.66666667,  4.67867868,\n",
              "        4.69069069,  4.7027027 ,  4.71471471,  4.72672673,  4.73873874,\n",
              "        4.75075075,  4.76276276,  4.77477477,  4.78678679,  4.7987988 ,\n",
              "        4.81081081,  4.82282282,  4.83483483,  4.84684685,  4.85885886,\n",
              "        4.87087087,  4.88288288,  4.89489489,  4.90690691,  4.91891892,\n",
              "        4.93093093,  4.94294294,  4.95495495,  4.96696697,  4.97897898,\n",
              "        4.99099099,  5.003003  ,  5.01501502,  5.02702703,  5.03903904,\n",
              "        5.05105105,  5.06306306,  5.07507508,  5.08708709,  5.0990991 ,\n",
              "        5.11111111,  5.12312312,  5.13513514,  5.14714715,  5.15915916,\n",
              "        5.17117117,  5.18318318,  5.1951952 ,  5.20720721,  5.21921922,\n",
              "        5.23123123,  5.24324324,  5.25525526,  5.26726727,  5.27927928,\n",
              "        5.29129129,  5.3033033 ,  5.31531532,  5.32732733,  5.33933934,\n",
              "        5.35135135,  5.36336336,  5.37537538,  5.38738739,  5.3993994 ,\n",
              "        5.41141141,  5.42342342,  5.43543544,  5.44744745,  5.45945946,\n",
              "        5.47147147,  5.48348348,  5.4954955 ,  5.50750751,  5.51951952,\n",
              "        5.53153153,  5.54354354,  5.55555556,  5.56756757,  5.57957958,\n",
              "        5.59159159,  5.6036036 ,  5.61561562,  5.62762763,  5.63963964,\n",
              "        5.65165165,  5.66366366,  5.67567568,  5.68768769,  5.6996997 ,\n",
              "        5.71171171,  5.72372372,  5.73573574,  5.74774775,  5.75975976,\n",
              "        5.77177177,  5.78378378,  5.7957958 ,  5.80780781,  5.81981982,\n",
              "        5.83183183,  5.84384384,  5.85585586,  5.86786787,  5.87987988,\n",
              "        5.89189189,  5.9039039 ,  5.91591592,  5.92792793,  5.93993994,\n",
              "        5.95195195,  5.96396396,  5.97597598,  5.98798799,  6.        ])"
            ]
          },
          "metadata": {},
          "execution_count": 7
        }
      ]
    },
    {
      "cell_type": "code",
      "metadata": {
        "id": "s407zu5G1LEY"
      },
      "source": [
        "mu = 0"
      ],
      "execution_count": 8,
      "outputs": []
    },
    {
      "cell_type": "code",
      "metadata": {
        "id": "VJunvHrJ1LEb"
      },
      "source": [
        "sigma = 1"
      ],
      "execution_count": 9,
      "outputs": []
    },
    {
      "cell_type": "code",
      "metadata": {
        "id": "xGi4RlmT1LEe"
      },
      "source": [
        "pdf = normal_pdf(x,mu,sigma)"
      ],
      "execution_count": 10,
      "outputs": []
    },
    {
      "cell_type": "code",
      "metadata": {
        "outputId": "a2dabc41-3701-43e6-bd51-9c279b7b0fde",
        "id": "N674Q86J1LEh",
        "colab": {
          "base_uri": "https://localhost:8080/",
          "height": 448
        }
      },
      "source": [
        "plt.plot(x,pdf,'.')\n",
        "# plt.plot(x,y,'g.')"
      ],
      "execution_count": 11,
      "outputs": [
        {
          "output_type": "execute_result",
          "data": {
            "text/plain": [
              "[<matplotlib.lines.Line2D at 0x786d2db156f0>]"
            ]
          },
          "metadata": {},
          "execution_count": 11
        },
        {
          "output_type": "display_data",
          "data": {
            "text/plain": [
              "<Figure size 640x480 with 1 Axes>"
            ],
            "image/png": "[encoded data removed]"
          },
          "metadata": {}
        }
      ]
    },
    {
      "cell_type": "code",
      "source": [
        "n= 5\n",
        "x[0:n]\n",
        "np.sum(x[0:n])"
      ],
      "metadata": {
        "colab": {
          "base_uri": "https://localhost:8080/"
        },
        "id": "7YAhYcnbl6JU",
        "outputId": "80783411-eb68-4c26-f387-e30d4bee5194"
      },
      "execution_count": 12,
      "outputs": [
        {
          "output_type": "execute_result",
          "data": {
            "text/plain": [
              "-29.879879879879876"
            ]
          },
          "metadata": {},
          "execution_count": 12
        }
      ]
    },
    {
      "cell_type": "code",
      "metadata": {
        "id": "yDZg1FK41wtf"
      },
      "source": [
        "def cumulative_sum(x): # defining cumulative sum to create and approximation for our CDF\n",
        "\n",
        "  y = np.zeros(x.shape) # stores the cumulative sum values\n",
        "\n",
        "  for n in range(x.shape[0]):\n",
        "\n",
        "    y[n] = np.sum(x[0:n]) #updates array with curret PDF values up to index n\n",
        "\n",
        "#   y = y / np.max(y)\n",
        "\n",
        "  return y"
      ],
      "execution_count": 13,
      "outputs": []
    },
    {
      "cell_type": "code",
      "source": [
        "z = np.array([1,2,3,4,5])"
      ],
      "metadata": {
        "id": "LMUN0-a1m7Gn"
      },
      "execution_count": 14,
      "outputs": []
    },
    {
      "cell_type": "code",
      "source": [
        "z"
      ],
      "metadata": {
        "colab": {
          "base_uri": "https://localhost:8080/"
        },
        "id": "fXFYDMh9nCT3",
        "outputId": "7c8d6fc8-be42-4f04-ec28-7f9ca2b366d0"
      },
      "execution_count": 15,
      "outputs": [
        {
          "output_type": "execute_result",
          "data": {
            "text/plain": [
              "array([1, 2, 3, 4, 5])"
            ]
          },
          "metadata": {},
          "execution_count": 15
        }
      ]
    },
    {
      "cell_type": "code",
      "source": [
        "cumulative_sum(z)"
      ],
      "metadata": {
        "colab": {
          "base_uri": "https://localhost:8080/"
        },
        "id": "PibrAMwhnDz3",
        "outputId": "aa8ba81f-6212-4745-c1e9-bed2db729f10"
      },
      "execution_count": 16,
      "outputs": [
        {
          "output_type": "execute_result",
          "data": {
            "text/plain": [
              "array([ 0.,  1.,  3.,  6., 10.])"
            ]
          },
          "metadata": {},
          "execution_count": 16
        }
      ]
    },
    {
      "cell_type": "code",
      "metadata": {
        "id": "merifRSe3vT1"
      },
      "source": [
        "cdf = cumulative_sum(pdf)"
      ],
      "execution_count": 17,
      "outputs": []
    },
    {
      "cell_type": "code",
      "metadata": {
        "id": "TIR6Tm2NYSlH",
        "colab": {
          "base_uri": "https://localhost:8080/",
          "height": 430
        },
        "outputId": "39d37f1a-38cc-424b-b500-c4259b580d7b"
      },
      "source": [
        "plt.plot(x,cdf,'.');"
      ],
      "execution_count": 18,
      "outputs": [
        {
          "output_type": "display_data",
          "data": {
            "text/plain": [
              "<Figure size 640x480 with 1 Axes>"
            ],
            "image/png": "[encoded data removed]"
          },
          "metadata": {}
        }
      ]
    },
    {
      "cell_type": "code",
      "metadata": {
        "id": "dxKQae6QEbQF"
      },
      "source": [
        "# d_cdf = cdf[1:] - cdf[0:-1] #Demo to show that the derivative of the cdf gives you back the pdf\n",
        "# plt.plot(x[1:],d_cdf,'.');  #Not required for sampling"
      ],
      "execution_count": 19,
      "outputs": []
    },
    {
      "cell_type": "code",
      "metadata": {
        "id": "sikTuIG3c_y7",
        "colab": {
          "base_uri": "https://localhost:8080/",
          "height": 430
        },
        "outputId": "dd7421d4-a1f4-41a7-cd0d-d26a9ba07307"
      },
      "source": [
        "plt.plot(cdf,x,'.');"
      ],
      "execution_count": 20,
      "outputs": [
        {
          "output_type": "display_data",
          "data": {
            "text/plain": [
              "<Figure size 640x480 with 1 Axes>"
            ],
            "image/png": "[encoded data removed]"
          },
          "metadata": {}
        }
      ]
    },
    {
      "cell_type": "code",
      "metadata": {
        "id": "HsmcFWw26gZk"
      },
      "source": [
        "def find_nearest(array, value): #used to find nearest probabilty value to CDF\n",
        "\n",
        "  idx = np.argmin(np.abs(array - value)) # fucntion to calculate the absolute difference between the value in array and given\n",
        "\n",
        "  return idx"
      ],
      "execution_count": 21,
      "outputs": []
    },
    {
      "cell_type": "code",
      "source": [
        "z = np.array([11.2,32,63,4.3,5.67])"
      ],
      "metadata": {
        "id": "vSPFJ4Vyojca"
      },
      "execution_count": 22,
      "outputs": []
    },
    {
      "cell_type": "code",
      "source": [
        "find_nearest(z, 22.1)"
      ],
      "metadata": {
        "colab": {
          "base_uri": "https://localhost:8080/"
        },
        "id": "XmdnUaeUooQG",
        "outputId": "d1001c32-3ffe-4888-a872-08eec87c6701"
      },
      "execution_count": 23,
      "outputs": [
        {
          "output_type": "execute_result",
          "data": {
            "text/plain": [
              "1"
            ]
          },
          "metadata": {},
          "execution_count": 23
        }
      ]
    },
    {
      "cell_type": "code",
      "source": [
        "z[1]"
      ],
      "metadata": {
        "colab": {
          "base_uri": "https://localhost:8080/"
        },
        "id": "fwqtysOyo8Gx",
        "outputId": "01701030-4ad2-4d4c-ad15-11d5c52d9ed7"
      },
      "execution_count": 24,
      "outputs": [
        {
          "output_type": "execute_result",
          "data": {
            "text/plain": [
              "32.0"
            ]
          },
          "metadata": {},
          "execution_count": 24
        }
      ]
    },
    {
      "cell_type": "code",
      "metadata": {
        "id": "u-_tbmzBcrby",
        "colab": {
          "base_uri": "https://localhost:8080/"
        },
        "outputId": "547eb9b2-0cb2-44a4-b47e-3908cc84f3c4"
      },
      "source": [
        "find_nearest(cdf, 0.1) #finding nearest CDF to .1"
      ],
      "execution_count": 25,
      "outputs": [
        {
          "output_type": "execute_result",
          "data": {
            "text/plain": [
              "247"
            ]
          },
          "metadata": {},
          "execution_count": 25
        }
      ]
    },
    {
      "cell_type": "code",
      "metadata": {
        "id": "Zf6KSUgmEt26",
        "colab": {
          "base_uri": "https://localhost:8080/"
        },
        "outputId": "6fb18d7f-1683-48db-cf02-83a19e6bdfb4"
      },
      "source": [
        "x[393]"
      ],
      "execution_count": 26,
      "outputs": [
        {
          "output_type": "execute_result",
          "data": {
            "text/plain": [
              "-1.2792792792792795"
            ]
          },
          "metadata": {},
          "execution_count": 26
        }
      ]
    },
    {
      "cell_type": "code",
      "metadata": {
        "id": "M0O7iLuj5Qu5"
      },
      "source": [
        "xr = np.random.random((10000,)) # generates 10000 random numbers in range 1 to 0"
      ],
      "execution_count": 27,
      "outputs": []
    },
    {
      "cell_type": "code",
      "source": [
        "r = np.random.random()"
      ],
      "metadata": {
        "id": "gv6ZK19lpon9"
      },
      "execution_count": 28,
      "outputs": []
    },
    {
      "cell_type": "code",
      "source": [
        "r"
      ],
      "metadata": {
        "colab": {
          "base_uri": "https://localhost:8080/"
        },
        "id": "HMWCQfsmpsvF",
        "outputId": "6898e3cc-827f-4074-9a44-7d46576b16d3"
      },
      "execution_count": 29,
      "outputs": [
        {
          "output_type": "execute_result",
          "data": {
            "text/plain": [
              "0.6627100704651311"
            ]
          },
          "metadata": {},
          "execution_count": 29
        }
      ]
    },
    {
      "cell_type": "code",
      "source": [
        "x[find_nearest(cdf, r)]"
      ],
      "metadata": {
        "colab": {
          "base_uri": "https://localhost:8080/"
        },
        "id": "DdX5fnWBpuRN",
        "outputId": "9b1b83a8-3430-4129-b3cf-be4d0e663b75"
      },
      "execution_count": 30,
      "outputs": [
        {
          "output_type": "execute_result",
          "data": {
            "text/plain": [
              "-2.4084084084084085"
            ]
          },
          "metadata": {},
          "execution_count": 30
        }
      ]
    },
    {
      "cell_type": "code",
      "metadata": {
        "id": "AxX76gZp6gVV"
      },
      "source": [
        "w = np.zeros(xr.shape[0])\n",
        "\n",
        "for i in range(xr.shape[0]):\n",
        "\n",
        "  w[i] = x[find_nearest(cdf, xr[i])]"
      ],
      "execution_count": 31,
      "outputs": []
    },
    {
      "cell_type": "code",
      "metadata": {
        "id": "0dBd_HybERUD",
        "colab": {
          "base_uri": "https://localhost:8080/"
        },
        "outputId": "05cc4354-be3c-4fb2-d2b4-081ac5350e50"
      },
      "source": [
        "w.shape"
      ],
      "execution_count": 32,
      "outputs": [
        {
          "output_type": "execute_result",
          "data": {
            "text/plain": [
              "(10000,)"
            ]
          },
          "metadata": {},
          "execution_count": 32
        }
      ]
    },
    {
      "cell_type": "code",
      "metadata": {
        "id": "t4YdgMnK8j6D",
        "colab": {
          "base_uri": "https://localhost:8080/",
          "height": 430
        },
        "outputId": "f1adeb9b-ed4f-4e0a-e8d1-9484f3d0e0b2"
      },
      "source": [
        "plt.hist(w,50);"
      ],
      "execution_count": 33,
      "outputs": [
        {
          "output_type": "display_data",
          "data": {
            "text/plain": [
              "<Figure size 640x480 with 1 Axes>"
            ],
            "image/png": "[encoded data removed]"
          },
          "metadata": {}
        }
      ]
    },
    {
      "cell_type": "code",
      "source": [
        "num_bins = 50\n",
        "n,bins,patches = plt.hist(w, num_bins, density=1)\n",
        "y = ((1 / (np.sqrt(2 * np.pi) * sigma)) * np.exp(-0.5 * (1 / sigma * (bins - mu))**2))\n",
        "plt.plot(bins,y)"
      ],
      "metadata": {
        "id": "T2tZnucPEtG4",
        "colab": {
          "base_uri": "https://localhost:8080/",
          "height": 453
        },
        "outputId": "b857d7e8-1673-4562-b3e3-e9c73042815d"
      },
      "execution_count": 34,
      "outputs": [
        {
          "output_type": "execute_result",
          "data": {
            "text/plain": [
              "[<matplotlib.lines.Line2D at 0x786d2d913a30>]"
            ]
          },
          "metadata": {},
          "execution_count": 34
        },
        {
          "output_type": "display_data",
          "data": {
            "text/plain": [
              "<Figure size 640x480 with 1 Axes>"
            ],
            "image/png": "[encoded data removed]"
          },
          "metadata": {}
        }
      ]
    },
    {
      "cell_type": "code",
      "source": [],
      "metadata": {
        "id": "TvG2_-k-8U1M"
      },
      "execution_count": 34,
      "outputs": []
    },
    {
      "cell_type": "code",
      "source": [],
      "metadata": {
        "id": "gT-OjSFcm4Uc"
      },
      "execution_count": 34,
      "outputs": []
    },
    {
      "cell_type": "markdown",
      "source": [
        "# Homework"
      ],
      "metadata": {
        "id": "f6lSTMepm8qU"
      }
    },
    {
      "cell_type": "markdown",
      "source": [
        "# Birthday Paradox"
      ],
      "metadata": {
        "id": "iE625nJ2fVAa"
      }
    },
    {
      "cell_type": "code",
      "source": [
        "import random\n",
        "\n",
        "def simulate_birthday_paradox(people, simulations): #definition of the function of the birthday paradox\n",
        "    matches = 0\n",
        "\n",
        "    for i in range(simulations):\n",
        "        birthdays = [random.randint(1, 365) for _ in range(people)]\n",
        "        if len(birthdays) != len(set(birthdays)): # checks for duplicate birthdays\n",
        "            matches += 1 #if match is found, adds one to counter\n",
        "\n",
        "    probability = matches / simulations\n",
        "    return probability\n",
        "\n",
        "# Number of people in the room\n",
        "people = 5\n",
        "\n",
        "# Number of simulations\n",
        "simulations = 20000\n",
        "\n",
        "# Calculate the probability\n",
        "probability = simulate_birthday_paradox(people, simulations)\n",
        "probability\n"
      ],
      "metadata": {
        "colab": {
          "base_uri": "https://localhost:8080/"
        },
        "id": "uHDNfJ27fTLr",
        "outputId": "db38a120-796d-4af2-f501-2384f3be0daf"
      },
      "execution_count": 42,
      "outputs": [
        {
          "output_type": "execute_result",
          "data": {
            "text/plain": [
              "0.02665"
            ]
          },
          "metadata": {},
          "execution_count": 42
        }
      ]
    },
    {
      "cell_type": "code",
      "source": [
        "# In the code above, the probability that out of a given number of poeple, there will be a matching birthday is calculated."
      ],
      "metadata": {
        "id": "jJowCSRsnroR"
      },
      "execution_count": 35,
      "outputs": []
    },
    {
      "cell_type": "markdown",
      "source": [
        "# Monty Hall"
      ],
      "metadata": {
        "id": "ZOjownaNntLY"
      }
    },
    {
      "cell_type": "code",
      "source": [
        "def simulate_monty_hall_final(simulations):\n",
        "    # counters for wins\n",
        "    wins_switching = 0\n",
        "    wins_staying = 0\n",
        "\n",
        "    for _ in range(simulations):\n",
        "        # Randomly assign the car to a door (1, 2, or 3)\n",
        "        car_door = random.randint(1, 3)\n",
        "        # Player makes an initial choice\n",
        "        player_choice = random.randint(1, 3)\n",
        "\n",
        "        # Host opens a door, which is neither the player's choice nor the car door\n",
        "        for host_choice in [1, 2, 3]:\n",
        "            if host_choice != car_door and host_choice != player_choice:\n",
        "                break\n",
        "\n",
        "        # Find the remaining door for the player to switch to\n",
        "        for switch_choice in [1, 2, 3]:\n",
        "            if switch_choice != player_choice and switch_choice != host_choice:\n",
        "                break\n",
        "\n",
        "        # Count the number of wins for staying with the initial choice\n",
        "        if player_choice == car_door:\n",
        "            wins_staying += 1\n",
        "\n",
        "        # Count the number of wins for switching to the other door\n",
        "        if switch_choice == car_door:\n",
        "            wins_switching += 1\n",
        "\n",
        "    # Calculate the probabilities of winning by staying and switching\n",
        "    probability_staying = wins_staying / simulations\n",
        "    probability_switching = wins_switching / simulations\n",
        "\n",
        "    return probability_staying, probability_switching\n",
        "\n",
        "# Running the final version of the simulation\n",
        "final_probability_staying, final_probability_switching = simulate_monty_hall_final(simulations)\n",
        "final_probability_staying, final_probability_switching\n"
      ],
      "metadata": {
        "colab": {
          "base_uri": "https://localhost:8080/"
        },
        "id": "UagigVXQnrwI",
        "outputId": "1fc8099f-f43f-4e1d-e811-4050acd1210a"
      },
      "execution_count": 47,
      "outputs": [
        {
          "output_type": "execute_result",
          "data": {
            "text/plain": [
              "(0.33058, 0.66942)"
            ]
          },
          "metadata": {},
          "execution_count": 47
        }
      ]
    },
    {
      "cell_type": "code",
      "source": [],
      "metadata": {
        "id": "S_zodvhJpkkH"
      },
      "execution_count": 36,
      "outputs": []
    },
    {
      "cell_type": "markdown",
      "source": [
        "# Simple Craps"
      ],
      "metadata": {
        "id": "553F2D_eqyh9"
      }
    },
    {
      "cell_type": "code",
      "source": [
        "def simulate_dice_game(simulations):\n",
        "    wins = 0\n",
        "\n",
        "    for _ in range(simulations):\n",
        "        # Roll two six-sided dice\n",
        "        roll = random.randint(1, 6) + random.randint(1, 6)\n",
        "\n",
        "        # Check for immediate win or loss\n",
        "        if roll in [7, 11]: # WIN\n",
        "            wins += 1\n",
        "            continue\n",
        "        elif roll in [2, 3, 12]: #LOSS\n",
        "            continue\n",
        "\n",
        "        # Save the initial roll\n",
        "        initial_roll = roll\n",
        "\n",
        "        # Re-roll phase\n",
        "        while True:\n",
        "            roll = random.randint(1, 6) + random.randint(1, 6)\n",
        "            if roll == 7:  # Loss condition\n",
        "                break\n",
        "            elif roll == initial_roll:  # Win condition\n",
        "                wins += 1\n",
        "                break\n",
        "\n",
        "    probability_of_winning = wins / simulations\n",
        "    return probability_of_winning\n",
        "\n",
        "# Number of simulations\n",
        "simulations = 50000\n",
        "\n",
        "# Calculate the probability\n",
        "probability_of_winning = simulate_dice_game(simulations)\n",
        "probability_of_winning\n"
      ],
      "metadata": {
        "colab": {
          "base_uri": "https://localhost:8080/"
        },
        "id": "Uez6Ycj5qxmO",
        "outputId": "8d82adcb-6ae9-4069-a6af-69173eff7f8d"
      },
      "execution_count": 46,
      "outputs": [
        {
          "output_type": "execute_result",
          "data": {
            "text/plain": [
              "0.49154"
            ]
          },
          "metadata": {},
          "execution_count": 46
        }
      ]
    },
    {
      "cell_type": "markdown",
      "source": [
        "# Collector's Card Paradox\n"
      ],
      "metadata": {
        "id": "8c3x54_kx91f"
      }
    },
    {
      "cell_type": "code",
      "source": [
        "def simulate_card_collectors_problem(n, simulations):\n",
        "    total_card_packs_bought = 0\n",
        "\n",
        "    for _ in range(simulations):\n",
        "        collected_characters = set()\n",
        "        card_packs_bought = 0\n",
        "\n",
        "        # Buy card packs until all characters are collected\n",
        "        while len(collected_characters) < n:\n",
        "            new_card = random.randint(1, n)\n",
        "            collected_characters.add(new_card)\n",
        "            card_packs_bought += 1\n",
        "\n",
        "        total_card_packs_bought += card_packs_bought\n",
        "\n",
        "    # Calculate the average number of card packs needed\n",
        "    average_card_packs_needed = total_card_packs_bought / simulations\n",
        "    return average_card_packs_needed\n",
        "\n",
        "# Number of different characters\n",
        "n = 10\n",
        "\n",
        "# Calculate the expected number of card packs\n",
        "expected_card_packs = simulate_card_collectors_problem(n, simulations)\n",
        "expected_card_packs\n"
      ],
      "metadata": {
        "id": "No2Z-6FRq3n8",
        "colab": {
          "base_uri": "https://localhost:8080/"
        },
        "outputId": "28601222-e2f0-4a28-9bbe-aaa8d62aa5bc"
      },
      "execution_count": 48,
      "outputs": [
        {
          "output_type": "execute_result",
          "data": {
            "text/plain": [
              "29.36176"
            ]
          },
          "metadata": {},
          "execution_count": 48
        }
      ]
    },
    {
      "cell_type": "code",
      "source": [],
      "metadata": {
        "id": "AUkmiRElj7kL"
      },
      "execution_count": 38,
      "outputs": []
    },
    {
      "cell_type": "code",
      "source": [
        "import random\n",
        "\n",
        "def simulate_sock_drawer_problem(n, simulations):\n",
        "    total_draws = 0\n",
        "\n",
        "    for _ in range(simulations):\n",
        "        socks = {}\n",
        "        draws = 0\n",
        "\n",
        "        while True:\n",
        "            # Randomly draw a sock\n",
        "            sock_color = random.randint(1, n)\n",
        "            draws += 1\n",
        "\n",
        "            # Update the count for this color\n",
        "            if sock_color in socks:\n",
        "                socks[sock_color] += 1\n",
        "            else:\n",
        "                socks[sock_color] = 1\n",
        "\n",
        "            # Check for a pair\n",
        "            if socks[sock_color] == 2:\n",
        "                break\n",
        "\n",
        "        total_draws += draws\n",
        "\n",
        "    # Calculate the average number of draws needed\n",
        "    average_draws_needed = total_draws / simulations\n",
        "    return average_draws_needed\n",
        "\n",
        "# Number of pairs of socks\n",
        "n = 20\n",
        "\n",
        "# Number of simulations\n",
        "simulations = 100000\n",
        "\n",
        "# Calculate the expected number of draws\n",
        "expected_draws = simulate_sock_drawer_problem(n, simulations)\n",
        "expected_draws\n"
      ],
      "metadata": {
        "colab": {
          "base_uri": "https://localhost:8080/"
        },
        "id": "aKEfCochj7qD",
        "outputId": "71b1492d-4eea-4feb-d120-484ef1bc1b8e"
      },
      "execution_count": 51,
      "outputs": [
        {
          "output_type": "execute_result",
          "data": {
            "text/plain": [
              "6.27843"
            ]
          },
          "metadata": {},
          "execution_count": 51
        }
      ]
    }
  ]
}